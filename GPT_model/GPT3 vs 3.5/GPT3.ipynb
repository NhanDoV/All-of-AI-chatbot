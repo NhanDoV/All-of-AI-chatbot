{
 "cells": [
  {
   "cell_type": "code",
   "execution_count": 5,
   "metadata": {},
   "outputs": [],
   "source": [
    "#pip install transformers\n",
    "#pip install openai\n",
    "from transformers import pipeline\n",
    "import openai\n",
    "import warnings"
   ]
  },
  {
   "cell_type": "code",
   "execution_count": 6,
   "metadata": {},
   "outputs": [],
   "source": [
    "def askGPT(text):\n",
    "    openai.api_key = \"your_api_key\"\n",
    "    response = openai.Completion.create(\n",
    "                            engine = \"text-davinci-003\",\n",
    "                            prompt = text,\n",
    "                            temperature = 0.6,\n",
    "                            max_tokens = 150,\n",
    "                            )\n",
    "    print(response.choices[0].text)"
   ]
  },
  {
   "cell_type": "code",
   "execution_count": 9,
   "metadata": {},
   "outputs": [
    {
     "name": "stdout",
     "output_type": "stream",
     "text": [
      "GPT: Ask me a question\n",
      "\n",
      "GPT: Ask me a question\n",
      "\n",
      "GPT: Ask me a question\n",
      "\n",
      "GPT: Ask me a question\n",
      "\n",
      "GPT: Ask me a question\n",
      "\n",
      "GPT: Ask me a question\n",
      "\n",
      "GPT: Ask me a question\n",
      "\n",
      "GPT: Ask me a question\n",
      "\n"
     ]
    }
   ],
   "source": [
    "def main():\n",
    "    while True:\n",
    "        print('GPT: Ask me a question\\n')\n",
    "        myQn = input()\n",
    "        askGPT(myQn)\n",
    "\n",
    "main()"
   ]
  },
  {
   "cell_type": "code",
   "execution_count": null,
   "metadata": {},
   "outputs": [],
   "source": []
  }
 ],
 "metadata": {
  "kernelspec": {
   "display_name": "Python 3",
   "language": "python",
   "name": "python3"
  },
  "language_info": {
   "codemirror_mode": {
    "name": "ipython",
    "version": 3
   },
   "file_extension": ".py",
   "mimetype": "text/x-python",
   "name": "python",
   "nbconvert_exporter": "python",
   "pygments_lexer": "ipython3",
   "version": "3.10.4"
  },
  "orig_nbformat": 4
 },
 "nbformat": 4,
 "nbformat_minor": 2
}
