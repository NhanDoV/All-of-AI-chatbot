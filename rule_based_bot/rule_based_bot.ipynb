{
 "cells": [
  {
   "cell_type": "code",
   "execution_count": 1,
   "id": "41d03dff",
   "metadata": {
    "scrolled": true
   },
   "outputs": [],
   "source": [
    "import os, json\n",
    "from nltk.chat.util import Chat, reflections"
   ]
  },
  {
   "cell_type": "code",
   "execution_count": 2,
   "id": "14392fda",
   "metadata": {},
   "outputs": [
    {
     "data": {
      "text/plain": [
       "8"
      ]
     },
     "execution_count": 2,
     "metadata": {},
     "output_type": "execute_result"
    }
   ],
   "source": [
    "curt_fp = os.getcwd()\n",
    "data_file = open(f\"{curt_fp}\\\\intents.json\", encoding='utf-8').read()\n",
    "intents = json.loads(data_file)\n",
    "\n",
    "contents = []\n",
    "for intent in intents[\"intents\"]:\n",
    "    cont = []\n",
    "    for pattern, response in zip(intent[\"keywords\"], intent[\"responses\"]):\n",
    "        cont += [pattern, [response]]\n",
    "        contents += [cont]\n",
    "        \n",
    "len(contents)"
   ]
  },
  {
   "cell_type": "code",
   "execution_count": 3,
   "id": "34f3ccbb",
   "metadata": {},
   "outputs": [],
   "source": [
    "contents = [\n",
    "    [\n",
    "        \"(.*)my name is (.*)\",\n",
    "        [\"Hello %2, How are you today ?\"]\n",
    "    ],\n",
    "    [\n",
    "        \"(.*)help(.*) \",\n",
    "        [\"I can help you \",]\n",
    "    ],\n",
    "     [\n",
    "        \"(.*) your name ?\",\n",
    "        [\"My name is DataScientist_NhanDV, but you can just call me robot and I'm a chatbot .\"]\n",
    "    ],\n",
    "    [\n",
    "        \"how are you (.*) ?\",\n",
    "        [\"I'm doing very well\", \"i am great !\"]\n",
    "    ],\n",
    "    [\n",
    "        \"sorry (.*)\",\n",
    "        [\"Its alright\",\"Its OK, never mind that\",]\n",
    "    ],\n",
    "    [\n",
    "        \"i'm (.*) (good|well|okay|ok)\",\n",
    "        [\"Nice to hear that\",\"Alright, great !\",]\n",
    "    ],\n",
    "    [\n",
    "        \"(hi|hey|hello|hola|holla)(.*)\",\n",
    "        [\"Hello\", \"Hey there\",]\n",
    "    ],\n",
    "    [\n",
    "        \"what (.*) want ?\",\n",
    "        [\"Make me an offer I can't refuse\",]\n",
    "        \n",
    "    ],\n",
    "    [\n",
    "        \"(.*)created(.*)\",\n",
    "        [\"Sr Do Van Nhan had created me using Python's NLTK library \", \"top secret ;)\",]\n",
    "    ],\n",
    "    [\n",
    "        \"(.*) (location|city) ?\",\n",
    "        ['Sai Gon City, Vietnam, Asia, UTC+7',]\n",
    "    ],\n",
    "    [\n",
    "        \"how (.*) health (.*)\",\n",
    "        [\"Health is very important, but I am a computer, so I don't need to worry about my health \",]\n",
    "    ],\n",
    "    [\n",
    "        \"(.*)(sports|game|sport)(.*)\",\n",
    "        [\"MU - MC - Liv which one?\",]\n",
    "    ],\n",
    "    [\n",
    "        \"quit\",\n",
    "        [\"Bye for now. See you soon :) \",\"It was nice talking to you. See you soon :)\"]\n",
    "    ],\n",
    "    [\n",
    "        \"(.*)\",\n",
    "        ['That is nice to hear but I can not reply']\n",
    "    ],\n",
    "]"
   ]
  },
  {
   "cell_type": "code",
   "execution_count": 4,
   "id": "c4a4b1cc",
   "metadata": {},
   "outputs": [
    {
     "name": "stdout",
     "output_type": "stream",
     "text": [
      ">hi\n",
      "Hello\n",
      ">what is your name\n",
      "My name is DataScientist_NhanDV, but you can just call me robot and I'm a chatbot .\n",
      ">which sport team do you want to watch\n",
      "MU - MC - Liv which one?\n",
      ">do u wanna quit\n",
      "That is nice to hear but I can not reply\n",
      ">quit\n",
      "It was nice talking to you. See you soon :)\n"
     ]
    }
   ],
   "source": [
    "chat = Chat(contents)\n",
    "chat.converse()"
   ]
  },
  {
   "cell_type": "code",
   "execution_count": null,
   "id": "115f9965",
   "metadata": {},
   "outputs": [],
   "source": []
  }
 ],
 "metadata": {
  "kernelspec": {
   "display_name": "Python 3 (ipykernel)",
   "language": "python",
   "name": "python3"
  },
  "language_info": {
   "codemirror_mode": {
    "name": "ipython",
    "version": 3
   },
   "file_extension": ".py",
   "mimetype": "text/x-python",
   "name": "python",
   "nbconvert_exporter": "python",
   "pygments_lexer": "ipython3",
   "version": "3.7.9"
  }
 },
 "nbformat": 4,
 "nbformat_minor": 5
}
